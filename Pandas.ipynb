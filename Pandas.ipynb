{
  "nbformat": 4,
  "nbformat_minor": 0,
  "metadata": {
    "colab": {
      "name": "Pandas.ipynb",
      "private_outputs": true,
      "provenance": [],
      "authorship_tag": "ABX9TyNTUoKnEEBsp4VdNtotPGr+",
      "include_colab_link": true
    },
    "kernelspec": {
      "name": "python3",
      "display_name": "Python 3"
    },
    "language_info": {
      "name": "python"
    }
  },
  "cells": [
    {
      "cell_type": "markdown",
      "metadata": {
        "id": "view-in-github",
        "colab_type": "text"
      },
      "source": [
        "<a href=\"https://colab.research.google.com/github/Herzeg137/before-ml/blob/main/Pandas.ipynb\" target=\"_parent\"><img src=\"https://colab.research.google.com/assets/colab-badge.svg\" alt=\"Open In Colab\"/></a>"
      ]
    },
    {
      "cell_type": "code",
      "execution_count": null,
      "metadata": {
        "id": "YZrkYDrXmv7w"
      },
      "outputs": [],
      "source": [
        "#entering\n",
        "import pandas as pd\n",
        "print(pd.__version__)"
      ]
    },
    {
      "cell_type": "code",
      "source": [
        "#series\n",
        "import pandas as pd\n",
        "a = [1,7,2]\n",
        "\n",
        "myvar = pd.Series(a)\n",
        "print(myvar)"
      ],
      "metadata": {
        "id": "PmiNKI42nqOE"
      },
      "execution_count": null,
      "outputs": []
    },
    {
      "cell_type": "code",
      "source": [
        "#series\n",
        "#index\n",
        "import pandas as pd\n",
        "a = [1,7,2]\n",
        "\n",
        "myvar = pd.Series(a)\n",
        "print(myvar[0])"
      ],
      "metadata": {
        "id": "veRE1iAznqVP"
      },
      "execution_count": null,
      "outputs": []
    },
    {
      "cell_type": "code",
      "source": [
        "#create Labels\n",
        "import pandas as pd\n",
        "a = [1,7,2]\n",
        "\n",
        "myvar = pd.Series(a, index = [\"X\" , \"y\" , \"z\"])\n",
        "print(myvar)"
      ],
      "metadata": {
        "id": "Jw_k3bOtnqYZ"
      },
      "execution_count": null,
      "outputs": []
    },
    {
      "cell_type": "code",
      "source": [
        "#create Labels\n",
        "#index with Labels\n",
        "import pandas as pd\n",
        "a = [1,7,2]\n",
        "\n",
        "myvar = pd.Series(a, index = [\"X\" , \"y\" , \"z\"])\n",
        "print(myvar[\"X\"])"
      ],
      "metadata": {
        "id": "NE0mLioBpBDd"
      },
      "execution_count": null,
      "outputs": []
    },
    {
      "cell_type": "code",
      "source": [
        "#create Labels\n",
        "#with Key\n",
        "import pandas as pd\n",
        "\n",
        "calories = {\n",
        "    \"day1\" : 12, \n",
        "    \"day2\" : 23, \n",
        "    \"day3\" : 43\n",
        "}\n",
        "\n",
        "myvar = pd.Series(calories)\n",
        "print(myvar)"
      ],
      "metadata": {
        "id": "JALtaQ3SpBGy"
      },
      "execution_count": null,
      "outputs": []
    },
    {
      "cell_type": "code",
      "source": [
        "#create Labels\n",
        "#with Key\n",
        "#index\n",
        "import pandas as pd\n",
        "\n",
        "calories = {\n",
        "    \"day1\" : 12, \n",
        "    \"day2\" : 23, \n",
        "    \"day3\" : 43 \n",
        " }\n",
        "\n",
        "myvar = pd.Series(calories,  index = [\"day1\", \"day2\" , \"day3\"])\n",
        "print(myvar[\"day1\"])"
      ],
      "metadata": {
        "id": "VrDY29_isdoO"
      },
      "execution_count": null,
      "outputs": []
    },
    {
      "cell_type": "code",
      "source": [
        "#create a dataframe\n",
        "import pandas as pd\n",
        "data = {\n",
        "    \"calories\" : [12,34,56,78],\n",
        "    \"days\" : [1,2,3,4]\n",
        "}\n",
        "\n",
        "df = pd.DataFrame(data)\n",
        "print(df.loc[[0,1]])\n",
        "\n",
        "#second way is create a index"
      ],
      "metadata": {
        "id": "f74PaLVPsdqw"
      },
      "execution_count": null,
      "outputs": []
    },
    {
      "cell_type": "code",
      "source": [
        "#read CSV\n",
        "import pandas as pd\n",
        "\n",
        "df = pd.read_csv(\"dirtydata.csv\")\n",
        "\n",
        "print(df) #we can use it way to print df>>> print(df.to_string())"
      ],
      "metadata": {
        "id": "YGV-ajsjtOcZ"
      },
      "execution_count": null,
      "outputs": []
    },
    {
      "cell_type": "code",
      "source": [
        "#read JSON file\n",
        "import pandas as pd\n",
        "\n",
        "df = pd.read_csv(\"dirtydata.json\")\n",
        "\n",
        "print(df) #we can use it way to print df>>> print(df.to_string())"
      ],
      "metadata": {
        "id": "BWX6Qv_gtOe-"
      },
      "execution_count": null,
      "outputs": []
    },
    {
      "cell_type": "code",
      "source": [
        "#Analyzing dataFrame\n",
        "import pandas as pd\n",
        "\n",
        "df = pd.read_csv(\"dirtydata.csv\")\n",
        "\n",
        "print(df.head(10)) #Bu parametr fayl/jadvaldagi boshidagi 10 ta qatorni ko'rsatish uchun ishlatiladi"
      ],
      "metadata": {
        "id": "0yH1pSTptOid"
      },
      "execution_count": null,
      "outputs": []
    },
    {
      "cell_type": "code",
      "source": [
        "#Analyzing dataFrame\n",
        "import pandas as pd\n",
        "\n",
        "df = pd.read_csv(\"dirtydata.csv\")\n",
        "\n",
        "print(df.tail(10)) #Bu parametr fayl/jadvaldagi oxiridagi 10 ta qatorni ko'rsatish uchun ishlatiladi"
      ],
      "metadata": {
        "id": "3Ph4S58OtOlP"
      },
      "execution_count": null,
      "outputs": []
    },
    {
      "cell_type": "code",
      "source": [
        "#Analyzing dataFrame\n",
        "import pandas as pd\n",
        "\n",
        "df = pd.read_csv(\"dirtydata.csv\")\n",
        "\n",
        "print(df.info()) #Bu parametr jadval/file haqida info ya'ni ma'lumot beradi"
      ],
      "metadata": {
        "id": "AKI5HYbmtOnR"
      },
      "execution_count": null,
      "outputs": []
    },
    {
      "cell_type": "code",
      "source": [
        "#Bo'sh joylarni tozalash\n",
        "#dropna funksiyasi jadvalning nusxasini ochadi, biz nusxani qancha o'zgartirsak originali o'zgarmaydi\n",
        "import pandas as pd\n",
        "\n",
        "df = pd.read_csv(\"dirtydata.csv\")\n",
        "\n",
        "new_df = pd.dropna(df)\n",
        "\n",
        "print(new_df) "
      ],
      "metadata": {
        "id": "zAtvZ3Y9tOpI"
      },
      "execution_count": null,
      "outputs": []
    },
    {
      "cell_type": "code",
      "source": [
        "#Bo'sh joylarni tozalash\n",
        "#fillna yordamida bosh joylarni to'ldiramiz\n",
        "import pandas as pd\n",
        "\n",
        "df = pd.read_csv(\"dirtydata.csv\")\n",
        "\n",
        "new_df = pd.dropna(df)\n",
        "\n",
        "new_df = pd.fillna(130, inplace = True)\n",
        "#130 bu bo'sh joylarga kiritishi kerak bo'lgan qiymat va bu hamma bo'sh joylarga kiritiladi\n",
        "#inplace = True esa O'zgartirish uchun ruxsat olish parametri\n",
        "print(new_df) "
      ],
      "metadata": {
        "id": "BvTaKTEsuzF-"
      },
      "execution_count": null,
      "outputs": []
    },
    {
      "cell_type": "code",
      "source": [
        "#Bir xil ma'lumotlarni o'chirib tashlash\n",
        "#Buning uchun birinchi biz qaysi ma'lumotlar bir xil ekanligini aniqlab olishimiz kerak \n",
        "import pandas as pd\n",
        "\n",
        "df = pd.read_csv(\"dirtydata.csv\")\n",
        "\n",
        "print(df.duplicated())\n",
        "\n",
        "#F - copy bo'lmagan data\n",
        "#T - tepadagi F bilan bir xil ekanligi ko'rsatiladi\n",
        "#Davomi pastda"
      ],
      "metadata": {
        "id": "lJ1VLVlwuzIx"
      },
      "execution_count": null,
      "outputs": []
    },
    {
      "cell_type": "code",
      "source": [
        "#O'xshash data ni o'chirib tashlash\n",
        "import pandas as pd\n",
        "\n",
        "df = pd.read_csv(\"dirtydata.csv\")\n",
        "\n",
        "df.drop_duplicated(inplace = True)\n",
        "print(df)"
      ],
      "metadata": {
        "id": "lxRWhEkkwSca"
      },
      "execution_count": null,
      "outputs": []
    },
    {
      "cell_type": "code",
      "source": [
        "#Fixing wrong data\n",
        "import pandas as pd\n",
        "\n",
        "df = pd.read_csv(\"dirtydata.csv\")\n",
        "\n",
        "df.loc[2, 'calories' ] = 45\n",
        "\n",
        "print(df.to_string)\n",
        "#2 - index bo'yicha nechanchi satr ekanligi \n",
        "#calories - bu bo'lim nomi\n",
        "#45 - o'zgarishi kerak bo'lgan qiymat"
      ],
      "metadata": {
        "id": "m4LstFKmwSex"
      },
      "execution_count": null,
      "outputs": []
    },
    {
      "cell_type": "code",
      "source": [
        "#Qatorlarni olib tashlash\n",
        "import pandas as pd\n",
        "\n",
        "df = pd.read_csv(\"dirtydata.csv\")\n",
        "\n",
        "for x in df.index:\n",
        "  if df.loc[2, 'calories'] > 120:\n",
        "    df.drop(2, inplace = True)\n",
        "    print(df)\n",
        "#120 dan katta bo'lgan qiymatlilarni o'chirib tashlaydi"
      ],
      "metadata": {
        "id": "C_P8oXYiwShT"
      },
      "execution_count": null,
      "outputs": []
    },
    {
      "cell_type": "code",
      "source": [
        "#Munosabatlarni topish\n",
        "import pandas as pd\n",
        "\n",
        "df = pd.read_csv(\"dirtydata.csv\")\n",
        "\n",
        "print(df.corr)\n",
        "#moslashdagi mukammal son bu 1\n",
        "#Normal esa 0.9\n",
        "#Yomon esa 0.00..."
      ],
      "metadata": {
        "id": "qZU-YKmayo0W"
      },
      "execution_count": null,
      "outputs": []
    },
    {
      "cell_type": "code",
      "source": [
        "#Plotting\n",
        "#Data ni Grafigini yasash\n",
        "import pandas as pd\n",
        "import matplotlib.pyplot as plt\n",
        "\n",
        "df = pd.read_csv(\"dirtydata.csv\")\n",
        "df.plot(kind = 'scatter' , x = \"Duration\", y = \"Calories\")\n",
        "\n",
        "plt.show()\n",
        "#Note:Bir necha vaqtdan so'ng Github ga Matplotlib ga oid project ham qo'shiladi"
      ],
      "metadata": {
        "id": "P4IG5vkpyo8K"
      },
      "execution_count": null,
      "outputs": []
    }
  ]
}