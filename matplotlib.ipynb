{
  "nbformat": 4,
  "nbformat_minor": 0,
  "metadata": {
    "colab": {
      "name": "matplotlib.ipynb",
      "private_outputs": true,
      "provenance": [],
      "authorship_tag": "ABX9TyM71p8tA7ZtPc1X+PEpnElm",
      "include_colab_link": true
    },
    "kernelspec": {
      "name": "python3",
      "display_name": "Python 3"
    },
    "language_info": {
      "name": "python"
    }
  },
  "cells": [
    {
      "cell_type": "markdown",
      "metadata": {
        "id": "view-in-github",
        "colab_type": "text"
      },
      "source": [
        "<a href=\"https://colab.research.google.com/github/Herzeg137/before-ml/blob/main/matplotlib.ipynb\" target=\"_parent\"><img src=\"https://colab.research.google.com/assets/colab-badge.svg\" alt=\"Open In Colab\"/></a>"
      ]
    },
    {
      "cell_type": "code",
      "execution_count": null,
      "metadata": {
        "id": "bern81MwltaN"
      },
      "outputs": [],
      "source": [
        "pip install matplotlib"
      ]
    },
    {
      "cell_type": "code",
      "source": [
        "import matplotlib as \n",
        "print(matplotlib.__version__)"
      ],
      "metadata": {
        "id": "okSRLDvlmI0H"
      },
      "execution_count": null,
      "outputs": []
    },
    {
      "cell_type": "code",
      "source": [
        "import matplotlib.pyplot as plt\n",
        "print(plt.__version__)"
      ],
      "metadata": {
        "id": "3YRPginLmI4g"
      },
      "execution_count": null,
      "outputs": []
    },
    {
      "cell_type": "code",
      "source": [
        "import matplotlib.pyplot as plt\n",
        "import numpy as np\n",
        "\n",
        "xpoints = np.array([0,6])\n",
        "ypoints = np.array([0,250])\n",
        "\n",
        "plt.plot(xpoints, ypoints)\n",
        "plt.show()"
      ],
      "metadata": {
        "id": "kc5j72T3mI7Y"
      },
      "execution_count": null,
      "outputs": []
    },
    {
      "cell_type": "code",
      "source": [
        "#Matplotlib da koordinatalardan foydalanilganda (x1;x2), (y1;y2) kabi dasturda yoziladi chizilishda esa (x1; y1), (x2;y2) bo'ladi"
      ],
      "metadata": {
        "id": "HmrmAM0_mI-L"
      },
      "execution_count": null,
      "outputs": []
    },
    {
      "cell_type": "code",
      "source": [
        "#plotting without line\n",
        "import matplotlib.pyplot as plt\n",
        "import numpy as np\n",
        "\n",
        "xpoints = np.array([0,6])\n",
        "ypoints = np.array([0,250])\n",
        "\n",
        "plt.plot(xpoints, ypoints, 'o')\n",
        "plt.show()"
      ],
      "metadata": {
        "id": "3pmQJt8fmJBD"
      },
      "execution_count": null,
      "outputs": []
    },
    {
      "cell_type": "code",
      "source": [
        "#multiple points\n",
        "import matplotlib.pyplot as plt\n",
        "import numpy as np\n",
        "\n",
        "xpoints = np.array([0,6,2,3])\n",
        "ypoints = np.array([0,250,12, 34])\n",
        "\n",
        "plt.plot(xpoints, ypoints)\n",
        "plt.show()"
      ],
      "metadata": {
        "id": "fM47mARdmJEA"
      },
      "execution_count": null,
      "outputs": []
    },
    {
      "cell_type": "code",
      "source": [
        "#default  any point\n",
        "import matplotlib.pyplot as plt\n",
        "import numpy as np\n",
        "\n",
        "xpoints = np.array([0,6])\n",
        "\n",
        "\n",
        "plt.plot(xpoints)\n",
        "plt.show()"
      ],
      "metadata": {
        "id": "nAU2P0N9mJHE"
      },
      "execution_count": null,
      "outputs": []
    },
    {
      "cell_type": "code",
      "source": [
        "#Markers\n",
        "import matplotlib.pyplot as plt\n",
        "import numpy as np\n",
        "\n",
        "xpoints = np.array([3,6,7,4,4])\n",
        "\n",
        "\n",
        "plt.plot(xpoints, marker = '*')\n",
        "plt.show()"
      ],
      "metadata": {
        "id": "0nbGq73Pnfxn"
      },
      "execution_count": null,
      "outputs": []
    },
    {
      "cell_type": "code",
      "source": [
        "#Markers\n",
        "#give a color\n",
        "import matplotlib.pyplot as plt\n",
        "import numpy as np\n",
        "\n",
        "xpoints = np.array([3,6,7,4,4])\n",
        "\n",
        "\n",
        "plt.plot(xpoints, '*:r')\n",
        "plt.show()"
      ],
      "metadata": {
        "id": "4-ncgh66nf0c"
      },
      "execution_count": null,
      "outputs": []
    },
    {
      "cell_type": "code",
      "source": [
        "#Markers\n",
        "#take a marker's size\n",
        "import matplotlib.pyplot as plt\n",
        "import numpy as np\n",
        "\n",
        "xpoints = np.array([3,6,7,4,4])\n",
        "\n",
        "\n",
        "plt.plot(xpoints, '*:r', ms = 20)\n",
        "plt.show()"
      ],
      "metadata": {
        "id": "8z8v430JoMxQ"
      },
      "execution_count": null,
      "outputs": []
    },
    {
      "cell_type": "code",
      "source": [
        "#Markers\n",
        "#give a color to marker\n",
        "import matplotlib.pyplot as plt\n",
        "import numpy as np\n",
        "\n",
        "xpoints = np.array([3,6,7,4,4])\n",
        "\n",
        "\n",
        "plt.plot(xpoints, '*',ms = 20,  mec = 'r')\n",
        "plt.show()"
      ],
      "metadata": {
        "id": "9fsBl_uJoM0K"
      },
      "execution_count": null,
      "outputs": []
    },
    {
      "cell_type": "code",
      "source": [
        "#Markers\n",
        "#give a color to marker\n",
        "import matplotlib.pyplot as plt\n",
        "import numpy as np\n",
        "\n",
        "xpoints = np.array([3,6,7,4,4])\n",
        "\n",
        "\n",
        "plt.plot(xpoints, '*', ms = 20, mfc = 'r')\n",
        "plt.show()"
      ],
      "metadata": {
        "id": "kBb1WWg0nf24"
      },
      "execution_count": null,
      "outputs": []
    },
    {
      "cell_type": "code",
      "source": [
        "#Markers\n",
        "#give a color to marker\n",
        "import matplotlib.pyplot as plt\n",
        "import numpy as np\n",
        "\n",
        "xpoints = np.array([3,6,7,4,4])\n",
        "\n",
        "\n",
        "plt.plot(xpoints, '*', ms = 20, mfc = '#4CAF50')\n",
        "plt.show()"
      ],
      "metadata": {
        "id": "dGpSaDZjoutV"
      },
      "execution_count": null,
      "outputs": []
    },
    {
      "cell_type": "code",
      "source": [
        "#Labels and titles\n",
        "import matplotlib.pyplot as plt\n",
        "import numpy as np\n",
        "\n",
        "x = np.array([3,6,7,4,4])\n",
        "\n",
        "\n",
        "plt.plot(x)\n",
        "plt.title(\"Fuckk off\")\n",
        "plt.xlabel(\"fuck\")\n",
        "plt.ylabel(\"dick\")\n",
        "plt.show()"
      ],
      "metadata": {
        "id": "gNE0L2jdouxF"
      },
      "execution_count": null,
      "outputs": []
    },
    {
      "cell_type": "code",
      "source": [
        "#paramethres of Label and title\n",
        "import matplotlib.pyplot as plt\n",
        "import numpy as np\n",
        "\n",
        "x = np.array([3,6,7,4,4])\n",
        "y = np.array([12,123,23,23,23])\n",
        "\n",
        "font1 = {'family' : 'serif', 'color' : 'blue' , 'size' : 20}\n",
        "font2 = {'family' : 'serif', 'color' : 'blue' , 'size' : 10}\n",
        "\n",
        "\n",
        "plt.plot(x)\n",
        "plt.title(\"Fuckk off\", fontdick = 'font1')\n",
        "plt.xlabel(\"fuck\", fontdick = 'font2')\n",
        "plt.ylabel(\"dick\", fontdick = 'font1')\n",
        "plt.show()"
      ],
      "metadata": {
        "id": "71MYVgixAP-F"
      },
      "execution_count": null,
      "outputs": []
    },
    {
      "cell_type": "code",
      "source": [
        "#Grid\n",
        "import matplotlib.pyplot as plt\n",
        "import numpy as np\n",
        "\n",
        "x = np.array([3,6,7,4,4])\n",
        "y = np.array([12,123,23,23,23])\n",
        "\n",
        "\n",
        "plt.plot(x)\n",
        "plt.grid()\n",
        "plt.show()"
      ],
      "metadata": {
        "id": "gOZCt5g1AQAz"
      },
      "execution_count": null,
      "outputs": []
    },
    {
      "cell_type": "code",
      "source": [
        "#Grid for x\n",
        "import matplotlib.pyplot as plt\n",
        "import numpy as np\n",
        "\n",
        "x = np.array([3,6,7,4,4])\n",
        "y = np.array([12,123,23,23,23])\n",
        "\n",
        "\n",
        "plt.plot(x)\n",
        "plt.grid(axos = 'x')\n",
        "plt.show()"
      ],
      "metadata": {
        "id": "h3tFzUQDAQGI"
      },
      "execution_count": null,
      "outputs": []
    },
    {
      "cell_type": "code",
      "source": [
        "#Grid for y\n",
        "import matplotlib.pyplot as plt\n",
        "import numpy as np\n",
        "\n",
        "x = np.array([3,6,7,4,4])\n",
        "y = np.array([12,123,23,23,23])\n",
        "\n",
        "\n",
        "plt.plot(x)\n",
        "plt.grid(axos = 'y')\n",
        "plt.show()"
      ],
      "metadata": {
        "id": "1QfWfr05AQL2"
      },
      "execution_count": null,
      "outputs": []
    },
    {
      "cell_type": "code",
      "source": [
        "#Display Multiple plots\n",
        "#Grid for x\n",
        "import matplotlib.pyplot as plt\n",
        "import numpy as np\n",
        "\n",
        "x = np.array([3,6,7,4,4])\n",
        "y = np.array([12,123,23,23,23])\n",
        "\n",
        "plt.subplot(1,2,1)\n",
        "plt.plot(x)\n",
        "\n",
        "x = np.array([3,6,7,4,4])\n",
        "y = np.array([12,123,23,23,23])\n",
        "\n",
        "plt.subplot(1,2,2)\n",
        "plt.plot(x,y)\n",
        "plt.show()"
      ],
      "metadata": {
        "id": "9WjKm2cLou2a"
      },
      "execution_count": null,
      "outputs": []
    },
    {
      "cell_type": "code",
      "source": [
        "# Vertical Bars\n",
        "x = np.array([3,6,7,4,4])\n",
        "y = np.array([12,123,23,23,23])\n",
        "\n",
        "plt.bars(x,y)"
      ],
      "metadata": {
        "id": "yitzb29zB1yk"
      },
      "execution_count": null,
      "outputs": []
    },
    {
      "cell_type": "code",
      "source": [
        "#Horizontal Bars\n",
        "x = np.array([3,6,7,4,4])\n",
        "y = np.array([12,123,23,23,23])\n",
        "\n",
        "plt.barh(x,y)"
      ],
      "metadata": {
        "id": "IFkLmTIRB11l"
      },
      "execution_count": null,
      "outputs": []
    },
    {
      "cell_type": "code",
      "source": [
        "#Histogram\n",
        "x = np.array([3,6,7,4,4])\n",
        "y = np.array([12,123,23,23,23])\n",
        "\n",
        "plt.hist(x,y)"
      ],
      "metadata": {
        "id": "HRSLwehdB14J"
      },
      "execution_count": null,
      "outputs": []
    },
    {
      "cell_type": "code",
      "source": [
        "#Pie charts\n",
        "#Bars\n",
        "x = np.array([3,6,7,4,4])\n",
        "y = np.array([12,123,23,23,23])\n",
        "\n",
        "plt.pie(x,y)"
      ],
      "metadata": {
        "id": "iI8_xGEXB16q"
      },
      "execution_count": null,
      "outputs": []
    }
  ]
}